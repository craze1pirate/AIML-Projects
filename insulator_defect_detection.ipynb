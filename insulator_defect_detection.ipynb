{
  "nbformat": 4,
  "nbformat_minor": 0,
  "metadata": {
    "colab": {
      "provenance": []
    },
    "kernelspec": {
      "name": "python3",
      "display_name": "Python 3"
    },
    "language_info": {
      "name": "python"
    }
  },
  "cells": [
    {
      "cell_type": "code",
      "execution_count": 5,
      "metadata": {
        "colab": {
          "base_uri": "https://localhost:8080/"
        },
        "id": "siUJhWYRrvvm",
        "outputId": "c6ce13b6-9dfe-4ca8-a000-ad133997cf2b"
      },
      "outputs": [
        {
          "output_type": "stream",
          "name": "stdout",
          "text": [
            "Drive already mounted at /content/drive; to attempt to forcibly remount, call drive.mount(\"/content/drive\", force_remount=True).\n"
          ]
        }
      ],
      "source": [
        "# Mount Google Drive\n",
        "from google.colab import drive\n",
        "drive.mount('/content/drive')\n",
        "\n",
        "# Install the ultralytics library for YOLOv8\n",
        "!pip install ultralytics -q"
      ]
    },
    {
      "cell_type": "code",
      "source": [
        "import json\n",
        "import os\n",
        "from tqdm import tqdm\n",
        "\n",
        "# Path to the dataset folder in Google Drive\n",
        "# TODO: Update this path to the actual location of your dataset in Google Drive\n",
        "dataset_base_path = '/content/drive/MyDrive/dataset'\n",
        "\n",
        "# --- 1. Load Class Names from meta.json ---\n",
        "meta_path = os.path.join(dataset_base_path, 'meta.json')\n",
        "with open(meta_path, 'r') as f:\n",
        "    meta_data = json.load(f)\n",
        "class_names = [cls['title'] for cls in meta_data['classes']]\n",
        "class_map = {name: i for i, name in enumerate(class_names)}\n",
        "\n",
        "print(f\"✅ Found classes: {class_map}\")\n",
        "\n",
        "# --- 2. Conversion Function ---\n",
        "def convert_to_yolo(data, img_width, img_height, class_map):\n",
        "    yolo_annotations = []\n",
        "    for obj in data['objects']:\n",
        "        class_title = obj['classTitle']\n",
        "        if class_title not in class_map:\n",
        "            continue\n",
        "\n",
        "        class_id = class_map[class_title]\n",
        "\n",
        "        # Extract coordinates from \"points\" -> \"exterior\"\n",
        "        # It's a bounding box: [[x1, y1], [x2, y2]]\n",
        "        x1, y1 = obj['points']['exterior'][0]\n",
        "        x2, y2 = obj['points']['exterior'][1]\n",
        "\n",
        "        # Calculate bounding box center, width, and height\n",
        "        box_width = x2 - x1\n",
        "        box_height = y2 - y1\n",
        "        x_center = x1 + box_width / 2\n",
        "        y_center = y1 + box_height / 2\n",
        "\n",
        "        # Normalize coordinates\n",
        "        x_center_norm = x_center / img_width\n",
        "        y_center_norm = y_center / img_height\n",
        "        width_norm = box_width / img_width\n",
        "        height_norm = box_height / img_height\n",
        "\n",
        "        yolo_annotations.append(f\"{class_id} {x_center_norm} {y_center_norm} {width_norm} {height_norm}\")\n",
        "    return \"\\n\".join(yolo_annotations)\n",
        "\n",
        "# --- 3. Process all dataset splits (train, val, test) ---\n",
        "for split in ['train', 'val', 'test']:\n",
        "    ann_dir = os.path.join(dataset_base_path, split, 'ann')\n",
        "    label_dir = os.path.join(dataset_base_path, split, 'labels')\n",
        "    os.makedirs(label_dir, exist_ok=True)\n",
        "\n",
        "    print(f\"\\nProcessing '{split}' split...\")\n",
        "    # Check if the annotation directory exists before listing files\n",
        "    if not os.path.exists(ann_dir):\n",
        "        print(f\"Warning: Annotation directory not found for split '{split}': {ann_dir}\")\n",
        "        continue # Skip to the next split if the directory doesn't exist\n",
        "\n",
        "    for ann_file in tqdm(os.listdir(ann_dir)):\n",
        "        if ann_file.endswith('.json'):\n",
        "            json_path = os.path.join(ann_dir, ann_file)\n",
        "            with open(json_path, 'r') as f:\n",
        "                annotation_data = json.load(f)\n",
        "\n",
        "            # Get image dimensions\n",
        "            img_width = annotation_data['size']['width']\n",
        "            img_height = annotation_data['size']['height']\n",
        "\n",
        "            # Convert to YOLO format\n",
        "            yolo_content = convert_to_yolo(annotation_data, img_width, img_height, class_map)\n",
        "\n",
        "            # Save the new .txt label file\n",
        "            label_file_name = os.path.splitext(ann_file)[0] + '.txt'\n",
        "            label_path = os.path.join(label_dir, label_file_name)\n",
        "            with open(label_path, 'w') as f:\n",
        "                f.write(yolo_content)\n",
        "\n",
        "print(\"\\n✅ Conversion to YOLO format complete!\")"
      ],
      "metadata": {
        "colab": {
          "base_uri": "https://localhost:8080/"
        },
        "id": "IukyNgC-r_7k",
        "outputId": "82b8219c-900f-4a93-f1c8-fa0890592d95"
      },
      "execution_count": 6,
      "outputs": [
        {
          "output_type": "stream",
          "name": "stdout",
          "text": [
            "✅ Found classes: {'broken': 0, 'insulator': 1, 'pollution-flashover': 2}\n",
            "\n",
            "Processing 'train' split...\n"
          ]
        },
        {
          "output_type": "stream",
          "name": "stderr",
          "text": [
            "100%|██████████| 219/219 [00:04<00:00, 52.33it/s]\n"
          ]
        },
        {
          "output_type": "stream",
          "name": "stdout",
          "text": [
            "\n",
            "Processing 'val' split...\n"
          ]
        },
        {
          "output_type": "stream",
          "name": "stderr",
          "text": [
            "100%|██████████| 30/30 [00:31<00:00,  1.05s/it]\n"
          ]
        },
        {
          "output_type": "stream",
          "name": "stdout",
          "text": [
            "\n",
            "Processing 'test' split...\n"
          ]
        },
        {
          "output_type": "stream",
          "name": "stderr",
          "text": [
            "100%|██████████| 44/44 [01:06<00:00,  1.52s/it]"
          ]
        },
        {
          "output_type": "stream",
          "name": "stdout",
          "text": [
            "\n",
            "✅ Conversion to YOLO format complete!\n"
          ]
        },
        {
          "output_type": "stream",
          "name": "stderr",
          "text": [
            "\n"
          ]
        }
      ]
    },
    {
      "cell_type": "code",
      "source": [
        "import yaml\n",
        "import os\n",
        "\n",
        "# Create the YAML configuration dictionary\n",
        "data_yaml = {\n",
        "    'train': os.path.join(dataset_base_path, 'train', 'img'),\n",
        "    'val': os.path.join(dataset_base_path, 'val', 'img'),\n",
        "    'test': os.path.join(dataset_base_path, 'test', 'img'),\n",
        "    'nc': len(class_names),\n",
        "    'names': class_names\n",
        "}\n",
        "\n",
        "# Write the dictionary to a YAML file\n",
        "with open('/content/insulator_dataset.yaml', 'w') as f:\n",
        "    yaml.dump(data_yaml, f, default_flow_style=False)\n",
        "\n",
        "print(\"✅ insulator_dataset.yaml created successfully.\")\n",
        "print(\"\\nYAML file content:\")\n",
        "!cat /content/insulator_dataset.yaml"
      ],
      "metadata": {
        "colab": {
          "base_uri": "https://localhost:8080/"
        },
        "id": "i7BuRDS8sG3d",
        "outputId": "6c34dca4-d789-4939-9177-b83327bc590b"
      },
      "execution_count": 7,
      "outputs": [
        {
          "output_type": "stream",
          "name": "stdout",
          "text": [
            "✅ insulator_dataset.yaml created successfully.\n",
            "\n",
            "YAML file content:\n",
            "names:\n",
            "- broken\n",
            "- insulator\n",
            "- pollution-flashover\n",
            "nc: 3\n",
            "test: /content/drive/MyDrive/dataset/test/img\n",
            "train: /content/drive/MyDrive/dataset/train/img\n",
            "val: /content/drive/MyDrive/dataset/val/img\n"
          ]
        }
      ]
    },
    {
      "cell_type": "code",
      "source": [
        "from ultralytics import YOLO\n",
        "\n",
        "# Load a pretrained YOLOv8 model\n",
        "model = YOLO('yolov8n.pt')\n",
        "\n",
        "# Train the model\n",
        "results = model.train(\n",
        "    data='/content/insulator_dataset.yaml',\n",
        "    imgsz=640,\n",
        "    epochs=10,\n",
        "    batch=16,\n",
        "    name='insulator_yolov8'\n",
        ")"
      ],
      "metadata": {
        "colab": {
          "base_uri": "https://localhost:8080/"
        },
        "id": "L1W7qw0PsJim",
        "outputId": "1cd6f09c-956c-493f-e29b-9d6c419b9317"
      },
      "execution_count": null,
      "outputs": [
        {
          "output_type": "stream",
          "name": "stdout",
          "text": [
            "Ultralytics 8.3.169 🚀 Python-3.11.13 torch-2.6.0+cu124 CPU (Intel Xeon 2.20GHz)\n",
            "\u001b[34m\u001b[1mengine/trainer: \u001b[0magnostic_nms=False, amp=True, augment=False, auto_augment=randaugment, batch=16, bgr=0.0, box=7.5, cache=False, cfg=None, classes=None, close_mosaic=10, cls=0.5, conf=None, copy_paste=0.0, copy_paste_mode=flip, cos_lr=False, cutmix=0.0, data=/content/insulator_dataset.yaml, degrees=0.0, deterministic=True, device=cpu, dfl=1.5, dnn=False, dropout=0.0, dynamic=False, embed=None, epochs=10, erasing=0.4, exist_ok=False, fliplr=0.5, flipud=0.0, format=torchscript, fraction=1.0, freeze=None, half=False, hsv_h=0.015, hsv_s=0.7, hsv_v=0.4, imgsz=640, int8=False, iou=0.7, keras=False, kobj=1.0, line_width=None, lr0=0.01, lrf=0.01, mask_ratio=4, max_det=300, mixup=0.0, mode=train, model=yolov8n.pt, momentum=0.937, mosaic=1.0, multi_scale=False, name=insulator_yolov82, nbs=64, nms=False, opset=None, optimize=False, optimizer=auto, overlap_mask=True, patience=100, perspective=0.0, plots=True, pose=12.0, pretrained=True, profile=False, project=None, rect=False, resume=False, retina_masks=False, save=True, save_conf=False, save_crop=False, save_dir=runs/detect/insulator_yolov82, save_frames=False, save_json=False, save_period=-1, save_txt=False, scale=0.5, seed=0, shear=0.0, show=False, show_boxes=True, show_conf=True, show_labels=True, simplify=True, single_cls=False, source=None, split=val, stream_buffer=False, task=detect, time=None, tracker=botsort.yaml, translate=0.1, val=True, verbose=True, vid_stride=1, visualize=False, warmup_bias_lr=0.1, warmup_epochs=3.0, warmup_momentum=0.8, weight_decay=0.0005, workers=8, workspace=None\n",
            "Overriding model.yaml nc=80 with nc=3\n",
            "\n",
            "                   from  n    params  module                                       arguments                     \n",
            "  0                  -1  1       464  ultralytics.nn.modules.conv.Conv             [3, 16, 3, 2]                 \n",
            "  1                  -1  1      4672  ultralytics.nn.modules.conv.Conv             [16, 32, 3, 2]                \n",
            "  2                  -1  1      7360  ultralytics.nn.modules.block.C2f             [32, 32, 1, True]             \n",
            "  3                  -1  1     18560  ultralytics.nn.modules.conv.Conv             [32, 64, 3, 2]                \n",
            "  4                  -1  2     49664  ultralytics.nn.modules.block.C2f             [64, 64, 2, True]             \n",
            "  5                  -1  1     73984  ultralytics.nn.modules.conv.Conv             [64, 128, 3, 2]               \n",
            "  6                  -1  2    197632  ultralytics.nn.modules.block.C2f             [128, 128, 2, True]           \n",
            "  7                  -1  1    295424  ultralytics.nn.modules.conv.Conv             [128, 256, 3, 2]              \n",
            "  8                  -1  1    460288  ultralytics.nn.modules.block.C2f             [256, 256, 1, True]           \n",
            "  9                  -1  1    164608  ultralytics.nn.modules.block.SPPF            [256, 256, 5]                 \n",
            " 10                  -1  1         0  torch.nn.modules.upsampling.Upsample         [None, 2, 'nearest']          \n",
            " 11             [-1, 6]  1         0  ultralytics.nn.modules.conv.Concat           [1]                           \n",
            " 12                  -1  1    148224  ultralytics.nn.modules.block.C2f             [384, 128, 1]                 \n",
            " 13                  -1  1         0  torch.nn.modules.upsampling.Upsample         [None, 2, 'nearest']          \n",
            " 14             [-1, 4]  1         0  ultralytics.nn.modules.conv.Concat           [1]                           \n",
            " 15                  -1  1     37248  ultralytics.nn.modules.block.C2f             [192, 64, 1]                  \n",
            " 16                  -1  1     36992  ultralytics.nn.modules.conv.Conv             [64, 64, 3, 2]                \n",
            " 17            [-1, 12]  1         0  ultralytics.nn.modules.conv.Concat           [1]                           \n",
            " 18                  -1  1    123648  ultralytics.nn.modules.block.C2f             [192, 128, 1]                 \n",
            " 19                  -1  1    147712  ultralytics.nn.modules.conv.Conv             [128, 128, 3, 2]              \n",
            " 20             [-1, 9]  1         0  ultralytics.nn.modules.conv.Concat           [1]                           \n",
            " 21                  -1  1    493056  ultralytics.nn.modules.block.C2f             [384, 256, 1]                 \n",
            " 22        [15, 18, 21]  1    751897  ultralytics.nn.modules.head.Detect           [3, [64, 128, 256]]           \n",
            "Model summary: 129 layers, 3,011,433 parameters, 3,011,417 gradients, 8.2 GFLOPs\n",
            "\n",
            "Transferred 319/355 items from pretrained weights\n",
            "Freezing layer 'model.22.dfl.conv.weight'\n",
            "\u001b[34m\u001b[1mtrain: \u001b[0mFast image access ✅ (ping: 0.4±0.1 ms, read: 211.6±22.1 MB/s, size: 1012.4 KB)\n"
          ]
        },
        {
          "output_type": "stream",
          "name": "stderr",
          "text": [
            "\r\u001b[34m\u001b[1mtrain: \u001b[0mScanning /content/drive/MyDrive/dataset/train/img.cache... 0 images, 219 backgrounds, 0 corrupt: 100%|██████████| 219/219 [00:00<?, ?it/s]"
          ]
        },
        {
          "output_type": "stream",
          "name": "stdout",
          "text": [
            "WARNING ⚠️ Labels are missing or empty in /content/drive/MyDrive/dataset/train/img.cache, training may not work correctly. See https://docs.ultralytics.com/datasets for dataset formatting guidance.\n"
          ]
        },
        {
          "output_type": "stream",
          "name": "stderr",
          "text": [
            "\r\u001b[34m\u001b[1mtrain: \u001b[0mScanning /content/drive/MyDrive/dataset/train/img.cache... 0 images, 219 backgrounds, 0 corrupt: 100%|██████████| 219/219 [00:00<?, ?it/s]"
          ]
        },
        {
          "output_type": "stream",
          "name": "stdout",
          "text": [
            "\u001b[34m\u001b[1malbumentations: \u001b[0mBlur(p=0.01, blur_limit=(3, 7)), MedianBlur(p=0.01, blur_limit=(3, 7)), ToGray(p=0.01, method='weighted_average', num_output_channels=3), CLAHE(p=0.01, clip_limit=(1.0, 4.0), tile_grid_size=(8, 8))\n",
            "\u001b[34m\u001b[1mval: \u001b[0mFast image access ✅ (ping: 0.3±0.1 ms, read: 305.4±89.5 MB/s, size: 1399.0 KB)\n"
          ]
        },
        {
          "output_type": "stream",
          "name": "stderr",
          "text": [
            "\n",
            "\u001b[34m\u001b[1mval: \u001b[0mScanning /content/drive/MyDrive/dataset/val/img.cache... 0 images, 30 backgrounds, 0 corrupt: 100%|██████████| 30/30 [00:00<?, ?it/s]"
          ]
        },
        {
          "output_type": "stream",
          "name": "stdout",
          "text": [
            "WARNING ⚠️ Labels are missing or empty in /content/drive/MyDrive/dataset/val/img.cache, training may not work correctly. See https://docs.ultralytics.com/datasets for dataset formatting guidance.\n",
            "Plotting labels to runs/detect/insulator_yolov82/labels.jpg... \n",
            "WARNING ⚠️ zero-size array to reduction operation maximum which has no identity\n",
            "\u001b[34m\u001b[1moptimizer:\u001b[0m 'optimizer=auto' found, ignoring 'lr0=0.01' and 'momentum=0.937' and determining best 'optimizer', 'lr0' and 'momentum' automatically... \n",
            "\u001b[34m\u001b[1moptimizer:\u001b[0m AdamW(lr=0.001429, momentum=0.9) with parameter groups 57 weight(decay=0.0), 64 weight(decay=0.0005), 63 bias(decay=0.0)\n",
            "Image sizes 640 train, 640 val\n",
            "Using 0 dataloader workers\n",
            "Logging results to \u001b[1mruns/detect/insulator_yolov82\u001b[0m\n",
            "Starting training for 10 epochs...\n",
            "Closing dataloader mosaic\n",
            "\u001b[34m\u001b[1malbumentations: \u001b[0mBlur(p=0.01, blur_limit=(3, 7)), MedianBlur(p=0.01, blur_limit=(3, 7)), ToGray(p=0.01, method='weighted_average', num_output_channels=3), CLAHE(p=0.01, clip_limit=(1.0, 4.0), tile_grid_size=(8, 8))\n",
            "\n",
            "      Epoch    GPU_mem   box_loss   cls_loss   dfl_loss  Instances       Size\n"
          ]
        },
        {
          "output_type": "stream",
          "name": "stderr",
          "text": [
            "\n",
            "       1/10         0G          0      120.7          0          0        640: 100%|██████████| 14/14 [03:33<00:00, 15.24s/it]\n",
            "                 Class     Images  Instances      Box(P          R      mAP50  mAP50-95): 100%|██████████| 1/1 [00:56<00:00, 56.23s/it]"
          ]
        },
        {
          "output_type": "stream",
          "name": "stdout",
          "text": [
            "                   all         30          0          0          0          0          0\n",
            "WARNING ⚠️ no labels found in detect set, can not compute metrics without labels\n"
          ]
        },
        {
          "output_type": "stream",
          "name": "stderr",
          "text": [
            "\n",
            "/usr/local/lib/python3.11/dist-packages/ultralytics/utils/metrics.py:850: RuntimeWarning: Mean of empty slice.\n",
            "  i = smooth(f1_curve.mean(0), 0.1).argmax()  # max F1 index\n",
            "/usr/local/lib/python3.11/dist-packages/numpy/_core/_methods.py:130: RuntimeWarning: invalid value encountered in divide\n",
            "  ret = um.true_divide(\n"
          ]
        },
        {
          "output_type": "stream",
          "name": "stdout",
          "text": [
            "\n",
            "      Epoch    GPU_mem   box_loss   cls_loss   dfl_loss  Instances       Size\n"
          ]
        },
        {
          "output_type": "stream",
          "name": "stderr",
          "text": [
            "       2/10         0G          0        115          0          0        640:   7%|▋         | 1/14 [00:14<03:02, 14.08s/it]"
          ]
        }
      ]
    },
    {
      "cell_type": "code",
      "source": [
        "from ultralytics import YOLO\n",
        "\n",
        "# The path to the best weights saved during training\n",
        "best_model_path = '/content/runs/detect/insulator_yolov8/weights/best.pt'\n",
        "\n",
        "# Load the trained model\n",
        "model = YOLO(best_model_path)\n",
        "\n",
        "# Run validation on the test set\n",
        "metrics = model.val(split='test')\n",
        "\n",
        "print(\"\\nValidation Metrics:\")\n",
        "print(f\"mAP50-95: {metrics.box.map:.4f}\")\n",
        "print(f\"mAP50: {metrics.box.map50:.4f}\")"
      ],
      "metadata": {
        "id": "1g-bmx3KsPY1"
      },
      "execution_count": null,
      "outputs": []
    },
    {
      "cell_type": "code",
      "source": [
        "from IPython.display import Image\n",
        "\n",
        "# Display the results.png file which contains charts for mAP, precision, recall, and loss\n",
        "Image(filename='/content/runs/detect/insulator_yolov8/results.png', width=800)"
      ],
      "metadata": {
        "id": "yIYwc12TsTIS"
      },
      "execution_count": null,
      "outputs": []
    },
    {
      "cell_type": "code",
      "source": [
        "from IPython.display import Image\n",
        "\n",
        "# Display the confusion matrix\n",
        "Image(filename='/content/runs/detect/insulator_yolov8/confusion_matrix.png', width=600)"
      ],
      "metadata": {
        "id": "LTr2cWrKsdQZ"
      },
      "execution_count": null,
      "outputs": []
    },
    {
      "cell_type": "code",
      "source": [
        "from google.colab.patches import cv2_imshow\n",
        "import cv2\n",
        "\n",
        "# Path to a test image\n",
        "test_image_path = '/content/dataset/test/img/des-2d-045-090-p2_1052.png' # You can change this to any image\n",
        "\n",
        "# Run inference\n",
        "results = model(test_image_path)\n",
        "\n",
        "# Plot the results\n",
        "res_plotted = results[0].plot()\n",
        "\n",
        "# Show the image with detections\n",
        "cv2_imshow(res_plotted)"
      ],
      "metadata": {
        "id": "TgHVEpuIsflD"
      },
      "execution_count": null,
      "outputs": []
    }
  ]
}